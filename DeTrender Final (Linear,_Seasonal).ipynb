{
  "nbformat": 4,
  "nbformat_minor": 0,
  "metadata": {
    "colab": {
      "provenance": [],
      "authorship_tag": "ABX9TyNTKBXme88vDao/kKi9q0kY",
      "include_colab_link": true
    },
    "kernelspec": {
      "name": "python3",
      "display_name": "Python 3"
    },
    "language_info": {
      "name": "python"
    }
  },
  "cells": [
    {
      "cell_type": "markdown",
      "metadata": {
        "id": "view-in-github",
        "colab_type": "text"
      },
      "source": [
        "<a href=\"https://colab.research.google.com/github/allisonlinn/CSUREMM/blob/main/DeTrender%20Final%20(Linear%2C_Seasonal).ipynb\" target=\"_parent\"><img src=\"https://colab.research.google.com/assets/colab-badge.svg\" alt=\"Open In Colab\"/></a>"
      ]
    },
    {
      "cell_type": "code",
      "execution_count": null,
      "metadata": {
        "id": "Ku4LJc-8RCs8"
      },
      "outputs": [],
      "source": [
        "!pip install pandas\n",
        "!pip install google-colab\n",
        "!pip install sklearn\n",
        "!pip install statsmodels\n",
        "\n",
        "from google.colab import files\n",
        "import pandas as pd\n",
        "import numpy as np\n",
        "import seaborn as sns\n",
        "import matplotlib.pyplot as plt\n",
        "import statsmodels.api as sm\n",
        "from sklearn.linear_model import LinearRegression\n",
        "from sklearn.preprocessing import MinMaxScaler\n",
        "from sklearn.model_selection import train_test_split\n",
        "from sklearn.preprocessing import PolynomialFeatures\n",
        "from sklearn.metrics import r2_score\n",
        "from statsmodels.tsa.stattools import grangercausalitytests"
      ]
    },
    {
      "cell_type": "code",
      "source": [
        "# Upload CSV file from local machine\n",
        "uploaded = files.upload()\n",
        "\n",
        "# Get the file name\n",
        "file_name = next(iter(uploaded))\n",
        "\n",
        "# Read the CSV file into a Pandas DataFrame\n",
        "df = pd.read_csv(file_name)"
      ],
      "metadata": {
        "id": "O05WmLR5RHE3"
      },
      "execution_count": null,
      "outputs": []
    },
    {
      "cell_type": "code",
      "source": [
        "columns =    [\"date\", \"compound\",\"VCDAX_V\", \"VCSAX_V\", \"VENAX_V\", \"VFAIX_V\", \"VGSLX_V\", \"VGHCX_V\", \"VITAX_V\", \"VMAIX_V\", \"VSPVX_V\", \"VTCAX_V\",\n",
        "           \"VUIAX_V\", \"VINAX_V\", \"VUIAX_P\", \"VGHCX_P\", \"VFAIX_P\", \"VSPVX_P\", \"VITAX_P\", \"VMIAX_P\", \"VGSLX_P\", \"VINAX_P\",\n",
        "           \"VTCAX_P\", \"VCSAX_P\", \"VENAX_P\", \"VCDAX_P\"]\n",
        "\n",
        "columns_affected_V = [\"VCSAX_V\", \"VGSLX_V\",\"VITAX_V\"]\n",
        "columns_affected_P = [\"VCSAX_P\",\"VITAX_P\",\"VUIAX_P\"]\n",
        "# columns_affected_all = columns_affected_P + columns_affected_V\n",
        "columns_affected_all = [col for col in columns if col != \"date\"]\n",
        "\n",
        "data = df[columns].dropna()\n",
        "data[\"date\"] = pd.to_datetime(data[\"date\"])\n",
        "date = data.set_index('date', inplace = True)\n",
        "\n",
        "data_affected = data[columns_affected_all]\n",
        "data_detrended = pd.DataFrame(index=data_affected.index)"
      ],
      "metadata": {
        "id": "X1nvKPswRI-o"
      },
      "execution_count": null,
      "outputs": []
    },
    {
      "cell_type": "code",
      "source": [
        "def detrend_linear (column):\n",
        "  x = np.arange(len(column))\n",
        "  y = column.values.reshape(-1,1)\n",
        "\n",
        "  regressor = LinearRegression()\n",
        "  regressor.fit(x.reshape(-1, 1), y)\n",
        "\n",
        "  trend = regressor.predict(x.reshape(-1,1))\n",
        "  column_detrended = column - trend.flatten()\n",
        "\n",
        "  return column_detrended"
      ],
      "metadata": {
        "id": "0fqCmLzxRK4Q"
      },
      "execution_count": null,
      "outputs": []
    },
    {
      "cell_type": "code",
      "source": [
        "for column in data_affected:\n",
        "    detrended_column = detrend_linear(data_affected[column])\n",
        "    data_detrended[column + '_detrended'] = detrended_column\n",
        "\n",
        "    plt.figure(figsize=(10, 6))\n",
        "    plt.plot(data_affected[column], label='Original')\n",
        "    plt.plot(detrended_column, label='Detrended')\n",
        "    plt.xlabel('Date')\n",
        "    plt.ylabel(column)\n",
        "    plt.title(f'{column} and its Detrended Version')\n",
        "    plt.legend()\n",
        "    plt.show()\n",
        "\n",
        "print(data_affected)\n",
        "print(data_detrended)"
      ],
      "metadata": {
        "id": "nWlZ7_hKSWdj"
      },
      "execution_count": null,
      "outputs": []
    },
    {
      "cell_type": "code",
      "source": [
        "data_seasonal = data_detrended.copy()\n",
        "\n",
        "season_mapping = {\n",
        "    1: 'winter',\n",
        "    2: 'winter',\n",
        "    3: 'winter',\n",
        "    4: 'spring',\n",
        "    5: 'spring',\n",
        "    6: 'spring',\n",
        "    7: 'summer',\n",
        "    8: 'summer',\n",
        "    9: 'summer',\n",
        "    10: 'fall',\n",
        "    11: 'fall',\n",
        "    12: 'fall'\n",
        "}\n",
        "\n",
        "data_seasonal['season'] = data_seasonal.index.month.map(season_mapping)\n",
        "data_seasonal['year'] = data_seasonal.index.year\n",
        "\n",
        "detrend_seasonal = lambda column: column - data_seasonal.groupby(['year', 'season'])[column.name].transform('mean')\n",
        "\n",
        "columns_to_detrend = data_seasonal.columns.difference(['date', 'season', 'year'])\n",
        "data_seasonal[columns_to_detrend] = data_seasonal[columns_to_detrend].apply(detrend_seasonal)\n",
        "\n",
        "data_seasonal.to_csv('detrended_final.csv', index=True)\n",
        "files.download('detrended_final.csv')\n",
        "\n",
        "for column in data_seasonal.columns:\n",
        "    if column not in ['season', 'year']:\n",
        "        plt.figure()\n",
        "        plt.plot(data_seasonal.index, data_seasonal[column])\n",
        "        plt.title(f'{column} over time')\n",
        "        plt.xlabel('Date')\n",
        "        plt.ylabel('Adjusted Value')\n",
        "        plt.show()\n"
      ],
      "metadata": {
        "id": "feIW8jwycD0w"
      },
      "execution_count": null,
      "outputs": []
    }
  ]
}
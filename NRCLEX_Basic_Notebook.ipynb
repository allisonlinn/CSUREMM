{
  "nbformat": 4,
  "nbformat_minor": 0,
  "metadata": {
    "colab": {
      "provenance": [],
      "authorship_tag": "ABX9TyOn23OgBZbtLiiMColxqw1P",
      "include_colab_link": true
    },
    "kernelspec": {
      "name": "python3",
      "display_name": "Python 3"
    },
    "language_info": {
      "name": "python"
    }
  },
  "cells": [
    {
      "cell_type": "markdown",
      "metadata": {
        "id": "view-in-github",
        "colab_type": "text"
      },
      "source": [
        "<a href=\"https://colab.research.google.com/github/allisonlinn/CSUREMM/blob/main/NRCLEX_Basic_Notebook.ipynb\" target=\"_parent\"><img src=\"https://colab.research.google.com/assets/colab-badge.svg\" alt=\"Open In Colab\"/></a>"
      ]
    },
    {
      "cell_type": "markdown",
      "source": [
        "This Link: https://medium.com/geekculture/simple-emotion-classification-in-python-40fb24692541"
      ],
      "metadata": {
        "id": "4mOxQG7juwsI"
      }
    },
    {
      "cell_type": "code",
      "execution_count": 1,
      "metadata": {
        "colab": {
          "base_uri": "https://localhost:8080/"
        },
        "id": "LN5ynhsZAhZa",
        "outputId": "8ab281b8-fa4f-4d43-ccae-87706cefdd7e"
      },
      "outputs": [
        {
          "output_type": "stream",
          "name": "stdout",
          "text": [
            "Collecting NRCLex\n",
            "  Downloading NRCLex-4.0-py3-none-any.whl (4.4 kB)\n",
            "Requirement already satisfied: textblob in /usr/local/lib/python3.10/dist-packages (from NRCLex) (0.17.1)\n",
            "INFO: pip is looking at multiple versions of nrclex to determine which version is compatible with other requirements. This could take a while.\n",
            "  Downloading NRCLex-3.0.0.tar.gz (396 kB)\n",
            "\u001b[2K     \u001b[90m━━━━━━━━━━━━━━━━━━━━━━━━━━━━━━━━━━━━━━━\u001b[0m \u001b[32m396.4/396.4 kB\u001b[0m \u001b[31m5.8 MB/s\u001b[0m eta \u001b[36m0:00:00\u001b[0m\n",
            "\u001b[?25h  Preparing metadata (setup.py) ... \u001b[?25l\u001b[?25hdone\n",
            "Requirement already satisfied: nltk>=3.1 in /usr/local/lib/python3.10/dist-packages (from textblob->NRCLex) (3.8.1)\n",
            "Requirement already satisfied: click in /usr/local/lib/python3.10/dist-packages (from nltk>=3.1->textblob->NRCLex) (8.1.3)\n",
            "Requirement already satisfied: joblib in /usr/local/lib/python3.10/dist-packages (from nltk>=3.1->textblob->NRCLex) (1.2.0)\n",
            "Requirement already satisfied: regex>=2021.8.3 in /usr/local/lib/python3.10/dist-packages (from nltk>=3.1->textblob->NRCLex) (2022.10.31)\n",
            "Requirement already satisfied: tqdm in /usr/local/lib/python3.10/dist-packages (from nltk>=3.1->textblob->NRCLex) (4.65.0)\n",
            "Building wheels for collected packages: NRCLex\n",
            "  Building wheel for NRCLex (setup.py) ... \u001b[?25l\u001b[?25hdone\n",
            "  Created wheel for NRCLex: filename=NRCLex-3.0.0-py3-none-any.whl size=43308 sha256=9015c4f86854889dd1d8e87cab7fc4084a427e4ca7ea5ff2ed3ba2837d24f83a\n",
            "  Stored in directory: /root/.cache/pip/wheels/d2/10/44/6abfb1234298806a145fd6bcaec8cbc712e88dd1cd6cb242fa\n",
            "Successfully built NRCLex\n",
            "Installing collected packages: NRCLex\n",
            "Successfully installed NRCLex-3.0.0\n"
          ]
        }
      ],
      "source": [
        "pip install NRCLex"
      ]
    },
    {
      "cell_type": "code",
      "source": [
        "from nrclex import NRCLex\n",
        "\n",
        "import nltk\n",
        "nltk.download('punkt')\n"
      ],
      "metadata": {
        "colab": {
          "base_uri": "https://localhost:8080/"
        },
        "id": "MNheQ5aXAi8y",
        "outputId": "6c598719-83f8-4599-c079-63d444e2bbf9"
      },
      "execution_count": 2,
      "outputs": [
        {
          "output_type": "stream",
          "name": "stderr",
          "text": [
            "[nltk_data] Downloading package punkt to /root/nltk_data...\n",
            "[nltk_data]   Unzipping tokenizers/punkt.zip.\n"
          ]
        },
        {
          "output_type": "execute_result",
          "data": {
            "text/plain": [
              "True"
            ]
          },
          "metadata": {},
          "execution_count": 2
        }
      ]
    },
    {
      "cell_type": "code",
      "source": [
        "# Instantiate NRCLex object and pass the text\n",
        "\n",
        "text = \"Energy-producing states blast Obama climate change plan. Strategies Funded to Help Guard Boston Airport Against Effects of Climate Change. E.P.A. Carbon Emissions Proposal Could Save Thousands of Lives, Study Suggests. World Bank 's Pension Holdings Clash With Its Carbon Policies. China, EU working on common approach on climate change. Seattle mayor: Port needs new permit for Arctic oil fleet. Environmentalists sue over theme park's solar farm plans\"\n",
        "\n",
        "text_object = NRCLex(text)\n",
        "\n",
        "text_object.affect_frequencies"
      ],
      "metadata": {
        "colab": {
          "base_uri": "https://localhost:8080/"
        },
        "id": "hwrkC45FBa_-",
        "outputId": "bb8825d6-a428-47cb-fdb3-2783d43bb8dc"
      },
      "execution_count": 3,
      "outputs": [
        {
          "output_type": "execute_result",
          "data": {
            "text/plain": [
              "{'fear': 0.21428571428571427,\n",
              " 'anger': 0.14285714285714285,\n",
              " 'anticip': 0.0,\n",
              " 'trust': 0.0,\n",
              " 'surprise': 0.07142857142857142,\n",
              " 'positive': 0.21428571428571427,\n",
              " 'negative': 0.14285714285714285,\n",
              " 'sadness': 0.07142857142857142,\n",
              " 'disgust': 0.0,\n",
              " 'joy': 0.0,\n",
              " 'anticipation': 0.14285714285714285}"
            ]
          },
          "metadata": {},
          "execution_count": 3
        }
      ]
    }
  ]
}